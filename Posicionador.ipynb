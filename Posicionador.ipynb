{
 "cells": [
  {
   "cell_type": "code",
   "execution_count": null,
   "metadata": {},
   "outputs": [],
   "source": [
    "import ipywidgets as widgets\n",
    "from ipywidgets import Layout, Button, Box, VBox, HBox, Checkbox, Label, Text"
   ]
  },
  {
   "cell_type": "code",
   "execution_count": null,
   "metadata": {},
   "outputs": [],
   "source": [
    "def on_button_click(b):\n",
    "    global ser\n",
    "    print(\"---\", b.description)\n",
    "    ser.write(b.description.encode('utf-8'))\n",
    "    out = ''\n",
    "    \n",
    "    x = ser.readline()\n",
    "    out += x.decode(\"utf-8\")\n",
    "\n",
    "    print(out)\n",
    "\n",
    "    print(b.description)\n",
    "    time.sleep(2)\n",
    "    print(\"ready!\")"
   ]
  },
  {
   "cell_type": "code",
   "execution_count": null,
   "metadata": {},
   "outputs": [],
   "source": [
    "import serial\n",
    "import time\n",
    "\n",
    "\n",
    "def serial_connection(b):\n",
    "    global text_conn1, text_conn2, check_conn\n",
    "    \n",
    "    if check_conn.value:\n",
    "        print(\"Conectado!\")\n",
    "        check_conn.value=False\n",
    "        b.description=\"Conectar\"\n",
    "        b.button_style=\"warning\"\n",
    "    else:\n",
    "        print(\"Desconectado!\")\n",
    "        check_conn.value=True\n",
    "        b.description=\"Desconectar\"\n",
    "        b.button_style=\"success\"\n",
    "        \n",
    "        \n",
    "    #serPort = \"/dev/cu.usbmodem14101\"\n",
    "    #baudRate = 9600\n",
    "    #ser = serial.Serial(serPort, baudRate)\n",
    "    #print(\"Serial port \" + serPort + \" opened  Baudrate \" + str(baudRate))\n"
   ]
  },
  {
   "cell_type": "code",
   "execution_count": null,
   "metadata": {},
   "outputs": [],
   "source": []
  },
  {
   "cell_type": "code",
   "execution_count": null,
   "metadata": {},
   "outputs": [],
   "source": [
    "b_top = Button(description=\"a\", layout=Layout(width=\"60px\"))\n",
    "b_left = Button(description=\"b\", layout=Layout(width=\"60px\"))\n",
    "b_right = Button(description=\"c\", layout=Layout(width=\"60px\"))\n",
    "b_bottom = Button(description=\"d\", layout=Layout(width=\"60px\"))\n",
    "\n",
    "b_top.on_click(on_button_click)\n",
    "b_left.on_click(on_button_click)\n",
    "b_right.on_click(on_button_click)\n",
    "b_bottom.on_click(on_button_click)\n",
    "\n",
    "top = [\n",
    "    b_top\n",
    "]\n",
    "middle = [\n",
    "    b_left, b_right\n",
    "]\n",
    "bottom = [\n",
    "    b_bottom\n",
    "]\n",
    "box_layout = Layout(display=\"flex\",\n",
    "                    flex_flow=\"row\",\n",
    "                    justify_content=\"center\",\n",
    "                    width=\"70%\"\n",
    "                   )\n",
    "\n",
    "box_0 = Box(children=top, layout=box_layout)\n",
    "box_1 = Box(children=middle, layout=box_layout)\n",
    "box_2 = Box(children=bottom, layout=box_layout)\n",
    "\n",
    "button_move = VBox([box_0, box_1, box_2])\n",
    "\n",
    "label_conn = Label(\n",
    "    value=\"Conectar seriales, ingresa ambos dispositivos:\"\n",
    ")\n",
    "text_conn1 = Text(\n",
    "    description=\"Arduino\"\n",
    ")\n",
    "text_conn2 = Text(\n",
    "    description=\"Gaussmetro\"\n",
    ")\n",
    "\n",
    "check_conn = Checkbox(\n",
    "    value=False,\n",
    "    description=\"Connectado\",\n",
    "    disabled=True\n",
    ")\n",
    "button_conn = Button(description=\"Connectar\", layout=Layout(width=\"200px\"), button_style=\"warning\")\n",
    "button_conn.on_click(serial_connection)\n",
    "\n",
    "conn_box = VBox([label_conn, text_conn1, text_conn2, check_conn, button_conn])\n",
    "\n",
    "VBox([conn_box, button_move])"
   ]
  },
  {
   "cell_type": "code",
   "execution_count": null,
   "metadata": {},
   "outputs": [],
   "source": [
    "ser.close()"
   ]
  },
  {
   "cell_type": "code",
   "execution_count": null,
   "metadata": {},
   "outputs": [],
   "source": [
    "Label()"
   ]
  },
  {
   "cell_type": "code",
   "execution_count": null,
   "metadata": {},
   "outputs": [],
   "source": []
  }
 ],
 "metadata": {
  "kernelspec": {
   "display_name": "Python 3",
   "language": "python",
   "name": "python3"
  },
  "language_info": {
   "codemirror_mode": {
    "name": "ipython",
    "version": 3
   },
   "file_extension": ".py",
   "mimetype": "text/x-python",
   "name": "python",
   "nbconvert_exporter": "python",
   "pygments_lexer": "ipython3",
   "version": "3.7.2"
  },
  "toc": {
   "base_numbering": 1,
   "nav_menu": {},
   "number_sections": true,
   "sideBar": true,
   "skip_h1_title": false,
   "title_cell": "Table of Contents",
   "title_sidebar": "Contents",
   "toc_cell": false,
   "toc_position": {},
   "toc_section_display": true,
   "toc_window_display": false
  }
 },
 "nbformat": 4,
 "nbformat_minor": 2
}
